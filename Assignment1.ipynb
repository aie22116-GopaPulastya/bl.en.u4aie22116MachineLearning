{
  "nbformat": 4,
  "nbformat_minor": 0,
  "metadata": {
    "colab": {
      "provenance": [],
      "authorship_tag": "ABX9TyObqZGJdAP2gMmFCUazEUi1",
      "include_colab_link": true
    },
    "kernelspec": {
      "name": "python3",
      "display_name": "Python 3"
    },
    "language_info": {
      "name": "python"
    }
  },
  "cells": [
    {
      "cell_type": "markdown",
      "metadata": {
        "id": "view-in-github",
        "colab_type": "text"
      },
      "source": [
        "<a href=\"https://colab.research.google.com/github/aie22116-GopaPulastya/bl.en.u4aie22116MachineLearning/blob/main/Assignment1.ipynb\" target=\"_parent\"><img src=\"https://colab.research.google.com/assets/colab-badge.svg\" alt=\"Open In Colab\"/></a>"
      ]
    },
    {
      "cell_type": "code",
      "execution_count": 1,
      "metadata": {
        "colab": {
          "base_uri": "https://localhost:8080/"
        },
        "id": "J1gxiA6bIPKJ",
        "outputId": "60bcc193-c305-41d5-dd2e-e521837dc119"
      },
      "outputs": [
        {
          "output_type": "stream",
          "name": "stdout",
          "text": [
            "Enter a word: Gopa\n",
            "{'Word': 'Gopa', 'Vowel Count': 2, 'Consonant Count': 2, 'Vowels': ['o', 'a'], 'Consonants': ['G', 'p']}\n"
          ]
        }
      ],
      "source": [
        "def count_vowels_and_consonants_in_word(word):\n",
        "    vowels = \"aeiouAEIOU\"\n",
        "    vowel_count = sum(1 for char in word if char in vowels)\n",
        "    consonant_count = sum(1 for char in word if char.isalpha() and char not in vowels)\n",
        "    vowels_in_word = [char for char in word if char in vowels]\n",
        "    consonants_in_word = [char for char in word if char.isalpha() and char not in vowels]\n",
        "    return vowel_count, consonant_count, vowels_in_word, consonants_in_word\n",
        "# Get user input\n",
        "user_word = input(\"Enter a word: \")\n",
        "# Call the function to count and get vowels and consonants\n",
        "vowel_count, consonant_count, vowels, consonants = count_vowels_and_consonants_in_word(user_word)\n",
        "# Output the results\n",
        "result_output = {\n",
        "    \"Word\": user_word,\n",
        "    \"Vowel Count\": vowel_count,\n",
        "    \"Consonant Count\": consonant_count,\n",
        "    \"Vowels\": vowels,\n",
        "    \"Consonants\": consonants\n",
        "}\n",
        "print(result_output)\n",
        "\n"
      ]
    },
    {
      "cell_type": "code",
      "source": [
        "def matrix_multiply(matrix_a, matrix_b):\n",
        "    rows_a, cols_a = len(matrix_a), len(matrix_a[0])\n",
        "    rows_b, cols_b = len(matrix_b), len(matrix_b[0])\n",
        "    if cols_a != rows_b:\n",
        "        return \"Error: Matrices A and B are not multipliable.\"\n",
        "    result_matrix = [[0 for _ in range(cols_b)] for _ in range(rows_a)]\n",
        "    for i in range(rows_a):\n",
        "        for j in range(cols_b):\n",
        "            for k in range(cols_a):\n",
        "                result_matrix[i][j] += matrix_a[i][k] * matrix_b[k][j]\n",
        "    return result_matrix\n",
        "def get_matrix_from_user(rows, cols, matrix_name):\n",
        "    print(f\"Enter elements for Matrix {matrix_name}:\")\n",
        "    return [[int(input(f\"Enter element for Matrix {matrix_name}[{i}][{j}]: \")) for j in range(cols)] for i in range(rows)]\n",
        "# Get user input for matrix A\n",
        "matrix_a_rows = int(input(\"Enter the number of rows for Matrix A: \"))\n",
        "matrix_a_cols = int(input(\"Enter the number of columns for Matrix A: \"))\n",
        "matrix_a = get_matrix_from_user(matrix_a_rows, matrix_a_cols, 'A')\n",
        "# Get user input for matrix B\n",
        "matrix_b_rows = int(input(\"Enter the number of rows for Matrix B: \"))\n",
        "matrix_b_cols = int(input(\"Enter the number of columns for Matrix B: \"))\n",
        "matrix_b = get_matrix_from_user(matrix_b_rows, matrix_b_cols, 'B')\n",
        "# Perform matrix multiplication\n",
        "result_matrix = matrix_multiply(matrix_a, matrix_b)\n",
        "# Print the result or error message\n",
        "print(\"Matrix Multiplication Result:\")\n",
        "if isinstance(result_matrix, str):\n",
        "    print(result_matrix)\n",
        "else:\n",
        "    for row in result_matrix:\n",
        "        print(row)\n",
        "3"
      ],
      "metadata": {
        "colab": {
          "base_uri": "https://localhost:8080/"
        },
        "id": "8SSvVB04IhfA",
        "outputId": "cae5eef1-198b-4bdd-fd32-10df771ecb45"
      },
      "execution_count": 2,
      "outputs": [
        {
          "output_type": "stream",
          "name": "stdout",
          "text": [
            "Enter the number of rows for Matrix A: 2\n",
            "Enter the number of columns for Matrix A: 3\n",
            "Enter elements for Matrix A:\n",
            "Enter element for Matrix A[0][0]: 1\n",
            "Enter element for Matrix A[0][1]: 2\n",
            "Enter element for Matrix A[0][2]: 3\n",
            "Enter element for Matrix A[1][0]: 4\n",
            "Enter element for Matrix A[1][1]: 5\n",
            "Enter element for Matrix A[1][2]: 6\n",
            "Enter the number of rows for Matrix B: 3\n",
            "Enter the number of columns for Matrix B: 2\n",
            "Enter elements for Matrix B:\n",
            "Enter element for Matrix B[0][0]: 2\n",
            "Enter element for Matrix B[0][1]: 3\n",
            "Enter element for Matrix B[1][0]: 5\n",
            "Enter element for Matrix B[1][1]: 6\n",
            "Enter element for Matrix B[2][0]: 5\n",
            "Enter element for Matrix B[2][1]: 2\n",
            "Matrix Multiplication Result:\n",
            "[27, 21]\n",
            "[63, 54]\n"
          ]
        }
      ]
    },
    {
      "cell_type": "code",
      "source": [
        "def count_common_elements(list_a, list_b):\n",
        "    common_elements = set(list_a) & set(list_b)\n",
        "    return len(common_elements)\n",
        "def get_integer_list_from_user():\n",
        "    return [int(x) for x in input(\"Enter elements (space-separated): \").split()]\n",
        "# Get user input for lists\n",
        "list_a = get_integer_list_from_user()\n",
        "list_b = get_integer_list_from_user()\n",
        "# Call the function to count common elements\n",
        "common_count = count_common_elements(list_a, list_b)\n",
        "# Print the result\n",
        "print(f\"Number of Common Elements: {common_count}\")\n"
      ],
      "metadata": {
        "colab": {
          "base_uri": "https://localhost:8080/"
        },
        "id": "C6blGLnkIuZE",
        "outputId": "abcd9a66-c6c3-492f-fc0d-05619da26858"
      },
      "execution_count": 3,
      "outputs": [
        {
          "output_type": "stream",
          "name": "stdout",
          "text": [
            "Enter elements (space-separated): 1 2 3\n",
            "Enter elements (space-separated): 1 2 3\n",
            "Number of Common Elements: 3\n"
          ]
        }
      ]
    },
    {
      "cell_type": "code",
      "source": [
        "def transpose_matrix(input_matrix):\n",
        "    return [[input_matrix[j][i] for j in range(len(input_matrix))] for i in range(len(input_matrix[0]))]\n",
        "# Get user input for the matrix\n",
        "num_rows = int(input(\"Enter the number of rows for the matrix: \"))\n",
        "num_cols = int(input(\"Enter the number of columns for the matrix: \"))\n",
        "matrix = [[int(input(f\"Enter element for matrix[{i}][{j}]: \")) for j in range(num_cols)] for i in range(num_rows)]\n",
        "# Call the function to get the transpose of the matrix\n",
        "transposed_matrix = transpose_matrix(matrix)\n",
        "# Print the result\n",
        "print(\"Original Matrix:\")\n",
        "for row in matrix:\n",
        "    print(row)\n",
        "print(\"\\nTransposed Matrix:\")\n",
        "for row in transposed_matrix:\n",
        "    print(row)\n"
      ],
      "metadata": {
        "colab": {
          "base_uri": "https://localhost:8080/"
        },
        "id": "jeo6xzu3I9Z9",
        "outputId": "7f06f5c5-f170-46fb-b11c-3b66634d20b1"
      },
      "execution_count": 4,
      "outputs": [
        {
          "output_type": "stream",
          "name": "stdout",
          "text": [
            "Enter the number of rows for the matrix: 2\n",
            "Enter the number of columns for the matrix: 3\n",
            "Enter element for matrix[0][0]: 1\n",
            "Enter element for matrix[0][1]: 2\n",
            "Enter element for matrix[0][2]: 3\n",
            "Enter element for matrix[1][0]: 4\n",
            "Enter element for matrix[1][1]: 5\n",
            "Enter element for matrix[1][2]: 6\n",
            "Original Matrix:\n",
            "[1, 2, 3]\n",
            "[4, 5, 6]\n",
            "\n",
            "Transposed Matrix:\n",
            "[1, 4]\n",
            "[2, 5]\n",
            "[3, 6]\n"
          ]
        }
      ]
    }
  ]
}