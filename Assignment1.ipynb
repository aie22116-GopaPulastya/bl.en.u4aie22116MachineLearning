def count_pairs_with_sum(arr, target_sum):
    """
    Count pairs of elements in the list with the sum equal to the target_sum.

    Args:
    - arr (list): List of integers.
    - target_sum (int): Target sum to find pairs.

    Returns:
    - int: Count of pairs with the given sum.
    """
    pairs_count = 0
    for i in range(len(arr)):
        for j in range(i + 1, len(arr)):
            if arr[i] + arr[j] == target_sum:
                pairs_count += 1
    return pairs_count


def calculate_range(numbers):
    """
    Calculate the range (difference between minimum and maximum) of the list.

    Args:
    - numbers (list): List of real numbers.

    Returns:
    - float: Range of the list.
    """
    if len(numbers) < 3:
        raise ValueError("Range determination not possible for lists with less than 3 elements.")
    
    return max(numbers) - min(numbers)


def matrix_power(matrix, power):
    """
    Calculate the power of a square matrix.

    Args:
    - matrix (list of lists): Square matrix.
    - power (int): Positive integer power.

    Returns:
    - list of lists: Resultant matrix after raising to the power.
    """
    result = matrix.copy()
    for _ in range(power - 1):
        result = [[sum(a * b for a, b in zip(row, col)) for col in zip(*matrix)] for row in result]
    return result


def max_occurrence_char(input_str):
    """
    Find the highest occurring character and its occurrence count in an input string.

    Args:
    - input_str (str): Input string.

    Returns:
    - tuple: (max_char, count) where max_char is the highest occurring character and count is its occurrence count.
    """
    alphabet_count = {}
    for char in input_str:
        if char.isalpha():
            alphabet_count[char] = alphabet_count.get(char, 0) + 1
    
    max_char = max(alphabet_count, key=alphabet_count.get)
    return max_char, alphabet_count[max_char]


def count_vowels_and_consonants(input_str):
    """
    Count the number of vowels and consonants in an input string.

    Args:
    - input_str (str): Input string.

    Returns:
    - tuple: (vowel_count, consonant_count) where vowel_count is the count of vowels and consonant_count is the count of consonants.
    """
    vowels = "aeiouAEIOU"
    vowel_count = sum(1 for char in input_str if char in vowels)
    consonant_count = len(input_str) - vowel_count
    return vowel_count, consonant_count


def matrix_product(matrix_a, matrix_b):
    """
    Multiply two matrices A and B.

    Args:
    - matrix_a (list of lists): Matrix A.
    - matrix_b (list of lists): Matrix B.

    Returns:
    - list of lists: Resultant matrix after multiplication.

    Raises:
    - ValueError: If matrices A and B are not multipliable.
    """
    if len(matrix_a[0]) != len(matrix_b):
        raise ValueError("Matrices A and B are not multipliable.")
    
    result = [[sum(a * b for a, b in zip(row, col)) for col in zip(*matrix_b)] for row in matrix_a]
    return result


def common_elements_count(list_a, list_b):
    """
    Count the number of common elements between two lists.

    Args:
    - list_a (list): First list of integers.
    - list_b (list): Second list of integers.

    Returns:
    - int: Number of common elements.
    """
    set_a = set(list_a)
    set_b = set(list_b)
    common_elements = set_a.intersection(set_b)
    return len(common_elements)


def transpose_matrix(matrix):
    """
    Find the transpose of a matrix.

    Args:
    - matrix (list of lists): Input matrix.

    Returns:
    - list of lists: Transposed matrix.
    """
    return [[matrix[j][i] for j in range(len(matrix))] for i in range(len(matrix[0]))]


# Set A
set_a_list = [2, 7, 4, 1, 3, 6]
target_sum = 10
range_result = calculate_range([5, 3, 8, 1, 0, 4])
matrix_a = [[5, 3, 8], [1, 0, 4], [2, 7, 4]]
matrix_power_result = matrix_power(matrix_a, 2)
max_char, occurrence_count = max_occurrence_char("hippopotamus")

# Set B
input_str_b = "Hello World"
matrix_a_b = [[1, 2], [3, 4]]
matrix_b_b = [[5, 6], [7, 8]]
product_result = matrix_product(matrix_a_b, matrix_b_b)
common_elements = common_elements_count([1, 2, 3, 4], [3, 4, 5, 6])
transposed_matrix = transpose_matrix([[1, 2], [3, 4]])

# Print results
print("Set A:")
print(f"Pairs with sum 10: {count_pairs_with_sum(set_a_list, target_sum)}")
print(f"Range of list: {range_result}")
print(f"Matrix A^2: {matrix_power_result}")
print(f"Max occurring character: {max_char}, Occurrence count: {occurrence_count}")

print("\nSet B:")
vowel_count, consonant_count = count_vowels_and_consonants(input_str_b)
print(f"Vowel count: {vowel_count}, Consonant count: {consonant_count}")
print(f"Matrix A * Matrix B: {product_result}")
print(f"Number of common elements: {common_elements}")
print(f"Transposed Matrix: {transposed_matrix}")
